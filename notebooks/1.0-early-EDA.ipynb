{
 "cells": [
  {
   "cell_type": "code",
   "execution_count": 1,
   "metadata": {},
   "outputs": [],
   "source": [
    "%run 0.1-data-import.ipynb"
   ]
  },
  {
   "cell_type": "markdown",
   "metadata": {},
   "source": [
    "## 1.0 Early Exploratory Data Analysis"
   ]
  },
  {
   "cell_type": "markdown",
   "metadata": {},
   "source": [
    "#### 1.0.1 Basic Data Checks"
   ]
  },
  {
   "cell_type": "code",
   "execution_count": 2,
   "metadata": {},
   "outputs": [
    {
     "name": "stdout",
     "output_type": "stream",
     "text": [
      "\u001b[1mtrain:\u001b[0m\n",
      "\u001b[1mTypes\u001b[0m\n",
      "date           period[D]\n",
      "store_nbr       category\n",
      "family          category\n",
      "sales            float32\n",
      "onpromotion       uint32\n",
      "dtype: object\n",
      "\u001b[1mShape\u001b[0m\n",
      "(2950992, 5)\n",
      "\u001b[1mMissing Values\u001b[0m\n",
      "date           0\n",
      "store_nbr      0\n",
      "family         0\n",
      "sales          0\n",
      "onpromotion    0\n",
      "dtype: int64\n",
      "\u001b[1mDuplicates\u001b[0m\n",
      "0\n",
      "\u001b[1mNumeric Description\u001b[0m\n",
      "                 count   mean     std  min  25%   50%    75%       max\n",
      "sales       2950992.00 355.88 1098.83 0.00 0.00 10.00 194.03 124717.00\n",
      "onpromotion 2950992.00   2.54   12.11 0.00 0.00  0.00   0.00    741.00\n",
      "\u001b[1mCategoric Description\u001b[0m\n",
      "             count unique         top   freq\n",
      "store_nbr  2950992     54           1  54648\n",
      "family     2950992     33  AUTOMOTIVE  89424\n",
      "\u001b[1mDate Range\u001b[0m\n",
      "Min Date: 2013-01-01\n",
      "Max Date: 2017-07-18\n",
      "\n",
      "\u001b[1mstores:\u001b[0m\n",
      "\u001b[1mTypes\u001b[0m\n",
      "store_nbr    category\n",
      "city         category\n",
      "state        category\n",
      "type         category\n",
      "cluster      category\n",
      "dtype: object\n",
      "\u001b[1mShape\u001b[0m\n",
      "(54, 5)\n",
      "\u001b[1mMissing Values\u001b[0m\n",
      "store_nbr    0\n",
      "city         0\n",
      "state        0\n",
      "type         0\n",
      "cluster      0\n",
      "dtype: int64\n",
      "\u001b[1mDuplicates\u001b[0m\n",
      "0\n",
      "No numeric columns to describe\n",
      "\u001b[1mCategoric Description\u001b[0m\n",
      "          count unique        top freq\n",
      "store_nbr    54     54          1    1\n",
      "city         54     22      Quito   18\n",
      "state        54     16  Pichincha   19\n",
      "type         54      5          D   18\n",
      "cluster      54     17          3    7\n",
      "\n",
      "\u001b[1moil:\u001b[0m\n",
      "\u001b[1mTypes\u001b[0m\n",
      "date          period[D]\n",
      "dcoilwtico      float32\n",
      "dtype: object\n",
      "\u001b[1mShape\u001b[0m\n",
      "(1218, 2)\n",
      "\u001b[1mMissing Values\u001b[0m\n",
      "date           0\n",
      "dcoilwtico    43\n",
      "dtype: int64\n",
      "\u001b[1mDuplicates\u001b[0m\n",
      "0\n",
      "\u001b[1mNumeric Description\u001b[0m\n",
      "             count  mean   std   min   25%   50%   75%    max\n",
      "dcoilwtico 1175.00 67.71 25.63 26.19 46.40 53.19 95.66 110.62\n",
      "No categorical columns to describe\n",
      "\u001b[1mDate Range\u001b[0m\n",
      "Min Date: 2013-01-01\n",
      "Max Date: 2017-08-31\n",
      "\n"
     ]
    }
   ],
   "source": [
    "dfs = ['train', 'stores', 'oil']\n",
    "unique_columns = [['store_nbr', 'family', 'date'], \n",
    "                  ['store_nbr'], \n",
    "                  ['date']]\n",
    "\n",
    "for df_name, uni in zip(dfs, unique_columns):\n",
    "    df = globals()[df_name]  # Access the DataFrame\n",
    "\n",
    "    print(f'\\033[1m{df_name}:\\033[0m')\n",
    "    \n",
    "    print('\\033[1mTypes\\033[0m')\n",
    "    print(df.dtypes)\n",
    "    \n",
    "    print('\\033[1mShape\\033[0m')\n",
    "    print(df.shape)\n",
    "\n",
    "    print('\\033[1mMissing Values\\033[0m')\n",
    "    print(df.isnull().sum())\n",
    "    \n",
    "    print('\\033[1mDuplicates\\033[0m')\n",
    "    print(df.duplicated(subset=uni, keep=False).sum())\n",
    "\n",
    "    # Check for numeric columns\n",
    "    if df.select_dtypes(include=[np.number]).empty:\n",
    "        print('No numeric columns to describe')\n",
    "    else:\n",
    "        print('\\033[1mNumeric Description\\033[0m')\n",
    "        print(df.describe().T)\n",
    "\n",
    "    # Check for categorical columns\n",
    "    if df.select_dtypes(include=['category']).empty:\n",
    "        print('No categorical columns to describe')\n",
    "    else:\n",
    "        print('\\033[1mCategoric Description\\033[0m')\n",
    "        print(df.describe(include=['category']).T)\n",
    "\n",
    "    # Check for 'date' in unique columns and print min/max dates\n",
    "    if 'date' in uni:\n",
    "        print('\\033[1mDate Range\\033[0m')\n",
    "        print(f\"Min Date: {df['date'].min()}\")\n",
    "        print(f\"Max Date: {df['date'].max()}\")\n",
    "\n",
    "    print()  # Print a blank line for readability"
   ]
  },
  {
   "cell_type": "markdown",
   "metadata": {},
   "source": [
    "#### 1.0.2 Preprocess"
   ]
  },
  {
   "cell_type": "code",
   "execution_count": 3,
   "metadata": {},
   "outputs": [],
   "source": [
    "# Fill missing values in the 'dcoilwtico' column using backfill strategy\n",
    "oil['dcoilwtico'] = oil['dcoilwtico'].fillna(method='backfill')"
   ]
  },
  {
   "cell_type": "code",
   "execution_count": 4,
   "metadata": {},
   "outputs": [
    {
     "name": "stdout",
     "output_type": "stream",
     "text": [
      "The train dataset is incomplete. The following dates are missing:\n",
      "PeriodIndex(['2013-12-25', '2014-12-25', '2015-12-25', '2016-12-25'], dtype='period[D]')\n"
     ]
    }
   ],
   "source": [
    "# Check the completeness of the train dataset\n",
    "expected_dates = pd.period_range(start=train['date'].min(), end=train['date'].max())\n",
    "\n",
    "missing_dates = expected_dates[~expected_dates.isin(train['date'])]\n",
    "\n",
    "if len(missing_dates) == 0:\n",
    "    print(\"The train dataset is complete. It includes all the required dates.\")\n",
    "else:\n",
    "    print(\"The train dataset is incomplete. The following dates are missing:\")\n",
    "    print(missing_dates)"
   ]
  },
  {
   "cell_type": "markdown",
   "metadata": {},
   "source": [
    "<div class=\"alert alert-block alert-info\">\n",
    "\n",
    "The analysis will focus on the top 10 product groups. This targeted approach is intended to optimize the analysis by prioritizing product groups that have the most significant impact in terms of financials.\n",
    "\n",
    "</div>"
   ]
  },
  {
   "cell_type": "code",
   "execution_count": 5,
   "metadata": {},
   "outputs": [
    {
     "data": {
      "application/vnd.plotly.v1+json": {
       "config": {
        "plotlyServerURL": "https://plot.ly"
       },
       "data": [
        {
         "alignmentgroup": "True",
         "hovertemplate": "sales=%{x}<br>family=%{y}<extra></extra>",
         "legendgroup": "",
         "marker": {
          "color": "#636efa",
          "pattern": {
           "shape": ""
          }
         },
         "name": "",
         "offsetgroup": "",
         "orientation": "h",
         "showlegend": false,
         "textposition": "auto",
         "type": "bar",
         "x": [
          6416,
          9781,
          41258,
          101275,
          211722,
          255913,
          328651,
          343926,
          525177,
          543756,
          545111,
          634787,
          642495,
          741258,
          1473621,
          1814833,
          1912883,
          1985282.9,
          7595047,
          8666655,
          13877789,
          15290974,
          15560557,
          23651218,
          24113648,
          30516596,
          31299412,
          41326628,
          63216144,
          95583540,
          119232216,
          211602620,
          336556900
         ],
         "xaxis": "x",
         "y": [
          "BOOKS",
          "BABY CARE",
          "HOME APPLIANCES",
          "HARDWARE",
          "SCHOOL AND OFFICE SUPPLIES",
          "MAGAZINES",
          "BEAUTY",
          "PET SUPPLIES",
          "LAWN AND GARDEN",
          "AUTOMOTIVE",
          "PLAYERS AND ELECTRONICS",
          "LADIESWEAR",
          "LINGERIE",
          "CELEBRATION",
          "HOME AND KITCHEN II",
          "HOME AND KITCHEN I",
          "GROCERY II",
          "SEAFOOD",
          "LIQUOR,WINE,BEER",
          "PREPARED FOODS",
          "FROZEN FOODS",
          "EGGS",
          "HOME CARE",
          "DELI",
          "PERSONAL CARE",
          "MEATS",
          "POULTRY",
          "BREAD/BAKERY",
          "DAIRY",
          "CLEANING",
          "PRODUCE",
          "BEVERAGES",
          "GROCERY I"
         ],
         "yaxis": "y"
        }
       ],
       "layout": {
        "barmode": "relative",
        "legend": {
         "tracegroupgap": 0
        },
        "template": {
         "data": {
          "bar": [
           {
            "error_x": {
             "color": "#2a3f5f"
            },
            "error_y": {
             "color": "#2a3f5f"
            },
            "marker": {
             "line": {
              "color": "#E5ECF6",
              "width": 0.5
             },
             "pattern": {
              "fillmode": "overlay",
              "size": 10,
              "solidity": 0.2
             }
            },
            "type": "bar"
           }
          ],
          "barpolar": [
           {
            "marker": {
             "line": {
              "color": "#E5ECF6",
              "width": 0.5
             },
             "pattern": {
              "fillmode": "overlay",
              "size": 10,
              "solidity": 0.2
             }
            },
            "type": "barpolar"
           }
          ],
          "carpet": [
           {
            "aaxis": {
             "endlinecolor": "#2a3f5f",
             "gridcolor": "white",
             "linecolor": "white",
             "minorgridcolor": "white",
             "startlinecolor": "#2a3f5f"
            },
            "baxis": {
             "endlinecolor": "#2a3f5f",
             "gridcolor": "white",
             "linecolor": "white",
             "minorgridcolor": "white",
             "startlinecolor": "#2a3f5f"
            },
            "type": "carpet"
           }
          ],
          "choropleth": [
           {
            "colorbar": {
             "outlinewidth": 0,
             "ticks": ""
            },
            "type": "choropleth"
           }
          ],
          "contour": [
           {
            "colorbar": {
             "outlinewidth": 0,
             "ticks": ""
            },
            "colorscale": [
             [
              0,
              "#0d0887"
             ],
             [
              0.1111111111111111,
              "#46039f"
             ],
             [
              0.2222222222222222,
              "#7201a8"
             ],
             [
              0.3333333333333333,
              "#9c179e"
             ],
             [
              0.4444444444444444,
              "#bd3786"
             ],
             [
              0.5555555555555556,
              "#d8576b"
             ],
             [
              0.6666666666666666,
              "#ed7953"
             ],
             [
              0.7777777777777778,
              "#fb9f3a"
             ],
             [
              0.8888888888888888,
              "#fdca26"
             ],
             [
              1,
              "#f0f921"
             ]
            ],
            "type": "contour"
           }
          ],
          "contourcarpet": [
           {
            "colorbar": {
             "outlinewidth": 0,
             "ticks": ""
            },
            "type": "contourcarpet"
           }
          ],
          "heatmap": [
           {
            "colorbar": {
             "outlinewidth": 0,
             "ticks": ""
            },
            "colorscale": [
             [
              0,
              "#0d0887"
             ],
             [
              0.1111111111111111,
              "#46039f"
             ],
             [
              0.2222222222222222,
              "#7201a8"
             ],
             [
              0.3333333333333333,
              "#9c179e"
             ],
             [
              0.4444444444444444,
              "#bd3786"
             ],
             [
              0.5555555555555556,
              "#d8576b"
             ],
             [
              0.6666666666666666,
              "#ed7953"
             ],
             [
              0.7777777777777778,
              "#fb9f3a"
             ],
             [
              0.8888888888888888,
              "#fdca26"
             ],
             [
              1,
              "#f0f921"
             ]
            ],
            "type": "heatmap"
           }
          ],
          "heatmapgl": [
           {
            "colorbar": {
             "outlinewidth": 0,
             "ticks": ""
            },
            "colorscale": [
             [
              0,
              "#0d0887"
             ],
             [
              0.1111111111111111,
              "#46039f"
             ],
             [
              0.2222222222222222,
              "#7201a8"
             ],
             [
              0.3333333333333333,
              "#9c179e"
             ],
             [
              0.4444444444444444,
              "#bd3786"
             ],
             [
              0.5555555555555556,
              "#d8576b"
             ],
             [
              0.6666666666666666,
              "#ed7953"
             ],
             [
              0.7777777777777778,
              "#fb9f3a"
             ],
             [
              0.8888888888888888,
              "#fdca26"
             ],
             [
              1,
              "#f0f921"
             ]
            ],
            "type": "heatmapgl"
           }
          ],
          "histogram": [
           {
            "marker": {
             "pattern": {
              "fillmode": "overlay",
              "size": 10,
              "solidity": 0.2
             }
            },
            "type": "histogram"
           }
          ],
          "histogram2d": [
           {
            "colorbar": {
             "outlinewidth": 0,
             "ticks": ""
            },
            "colorscale": [
             [
              0,
              "#0d0887"
             ],
             [
              0.1111111111111111,
              "#46039f"
             ],
             [
              0.2222222222222222,
              "#7201a8"
             ],
             [
              0.3333333333333333,
              "#9c179e"
             ],
             [
              0.4444444444444444,
              "#bd3786"
             ],
             [
              0.5555555555555556,
              "#d8576b"
             ],
             [
              0.6666666666666666,
              "#ed7953"
             ],
             [
              0.7777777777777778,
              "#fb9f3a"
             ],
             [
              0.8888888888888888,
              "#fdca26"
             ],
             [
              1,
              "#f0f921"
             ]
            ],
            "type": "histogram2d"
           }
          ],
          "histogram2dcontour": [
           {
            "colorbar": {
             "outlinewidth": 0,
             "ticks": ""
            },
            "colorscale": [
             [
              0,
              "#0d0887"
             ],
             [
              0.1111111111111111,
              "#46039f"
             ],
             [
              0.2222222222222222,
              "#7201a8"
             ],
             [
              0.3333333333333333,
              "#9c179e"
             ],
             [
              0.4444444444444444,
              "#bd3786"
             ],
             [
              0.5555555555555556,
              "#d8576b"
             ],
             [
              0.6666666666666666,
              "#ed7953"
             ],
             [
              0.7777777777777778,
              "#fb9f3a"
             ],
             [
              0.8888888888888888,
              "#fdca26"
             ],
             [
              1,
              "#f0f921"
             ]
            ],
            "type": "histogram2dcontour"
           }
          ],
          "mesh3d": [
           {
            "colorbar": {
             "outlinewidth": 0,
             "ticks": ""
            },
            "type": "mesh3d"
           }
          ],
          "parcoords": [
           {
            "line": {
             "colorbar": {
              "outlinewidth": 0,
              "ticks": ""
             }
            },
            "type": "parcoords"
           }
          ],
          "pie": [
           {
            "automargin": true,
            "type": "pie"
           }
          ],
          "scatter": [
           {
            "fillpattern": {
             "fillmode": "overlay",
             "size": 10,
             "solidity": 0.2
            },
            "type": "scatter"
           }
          ],
          "scatter3d": [
           {
            "line": {
             "colorbar": {
              "outlinewidth": 0,
              "ticks": ""
             }
            },
            "marker": {
             "colorbar": {
              "outlinewidth": 0,
              "ticks": ""
             }
            },
            "type": "scatter3d"
           }
          ],
          "scattercarpet": [
           {
            "marker": {
             "colorbar": {
              "outlinewidth": 0,
              "ticks": ""
             }
            },
            "type": "scattercarpet"
           }
          ],
          "scattergeo": [
           {
            "marker": {
             "colorbar": {
              "outlinewidth": 0,
              "ticks": ""
             }
            },
            "type": "scattergeo"
           }
          ],
          "scattergl": [
           {
            "marker": {
             "colorbar": {
              "outlinewidth": 0,
              "ticks": ""
             }
            },
            "type": "scattergl"
           }
          ],
          "scattermapbox": [
           {
            "marker": {
             "colorbar": {
              "outlinewidth": 0,
              "ticks": ""
             }
            },
            "type": "scattermapbox"
           }
          ],
          "scatterpolar": [
           {
            "marker": {
             "colorbar": {
              "outlinewidth": 0,
              "ticks": ""
             }
            },
            "type": "scatterpolar"
           }
          ],
          "scatterpolargl": [
           {
            "marker": {
             "colorbar": {
              "outlinewidth": 0,
              "ticks": ""
             }
            },
            "type": "scatterpolargl"
           }
          ],
          "scatterternary": [
           {
            "marker": {
             "colorbar": {
              "outlinewidth": 0,
              "ticks": ""
             }
            },
            "type": "scatterternary"
           }
          ],
          "surface": [
           {
            "colorbar": {
             "outlinewidth": 0,
             "ticks": ""
            },
            "colorscale": [
             [
              0,
              "#0d0887"
             ],
             [
              0.1111111111111111,
              "#46039f"
             ],
             [
              0.2222222222222222,
              "#7201a8"
             ],
             [
              0.3333333333333333,
              "#9c179e"
             ],
             [
              0.4444444444444444,
              "#bd3786"
             ],
             [
              0.5555555555555556,
              "#d8576b"
             ],
             [
              0.6666666666666666,
              "#ed7953"
             ],
             [
              0.7777777777777778,
              "#fb9f3a"
             ],
             [
              0.8888888888888888,
              "#fdca26"
             ],
             [
              1,
              "#f0f921"
             ]
            ],
            "type": "surface"
           }
          ],
          "table": [
           {
            "cells": {
             "fill": {
              "color": "#EBF0F8"
             },
             "line": {
              "color": "white"
             }
            },
            "header": {
             "fill": {
              "color": "#C8D4E3"
             },
             "line": {
              "color": "white"
             }
            },
            "type": "table"
           }
          ]
         },
         "layout": {
          "annotationdefaults": {
           "arrowcolor": "#2a3f5f",
           "arrowhead": 0,
           "arrowwidth": 1
          },
          "autotypenumbers": "strict",
          "coloraxis": {
           "colorbar": {
            "outlinewidth": 0,
            "ticks": ""
           }
          },
          "colorscale": {
           "diverging": [
            [
             0,
             "#8e0152"
            ],
            [
             0.1,
             "#c51b7d"
            ],
            [
             0.2,
             "#de77ae"
            ],
            [
             0.3,
             "#f1b6da"
            ],
            [
             0.4,
             "#fde0ef"
            ],
            [
             0.5,
             "#f7f7f7"
            ],
            [
             0.6,
             "#e6f5d0"
            ],
            [
             0.7,
             "#b8e186"
            ],
            [
             0.8,
             "#7fbc41"
            ],
            [
             0.9,
             "#4d9221"
            ],
            [
             1,
             "#276419"
            ]
           ],
           "sequential": [
            [
             0,
             "#0d0887"
            ],
            [
             0.1111111111111111,
             "#46039f"
            ],
            [
             0.2222222222222222,
             "#7201a8"
            ],
            [
             0.3333333333333333,
             "#9c179e"
            ],
            [
             0.4444444444444444,
             "#bd3786"
            ],
            [
             0.5555555555555556,
             "#d8576b"
            ],
            [
             0.6666666666666666,
             "#ed7953"
            ],
            [
             0.7777777777777778,
             "#fb9f3a"
            ],
            [
             0.8888888888888888,
             "#fdca26"
            ],
            [
             1,
             "#f0f921"
            ]
           ],
           "sequentialminus": [
            [
             0,
             "#0d0887"
            ],
            [
             0.1111111111111111,
             "#46039f"
            ],
            [
             0.2222222222222222,
             "#7201a8"
            ],
            [
             0.3333333333333333,
             "#9c179e"
            ],
            [
             0.4444444444444444,
             "#bd3786"
            ],
            [
             0.5555555555555556,
             "#d8576b"
            ],
            [
             0.6666666666666666,
             "#ed7953"
            ],
            [
             0.7777777777777778,
             "#fb9f3a"
            ],
            [
             0.8888888888888888,
             "#fdca26"
            ],
            [
             1,
             "#f0f921"
            ]
           ]
          },
          "colorway": [
           "#636efa",
           "#EF553B",
           "#00cc96",
           "#ab63fa",
           "#FFA15A",
           "#19d3f3",
           "#FF6692",
           "#B6E880",
           "#FF97FF",
           "#FECB52"
          ],
          "font": {
           "color": "#2a3f5f"
          },
          "geo": {
           "bgcolor": "white",
           "lakecolor": "white",
           "landcolor": "#E5ECF6",
           "showlakes": true,
           "showland": true,
           "subunitcolor": "white"
          },
          "hoverlabel": {
           "align": "left"
          },
          "hovermode": "closest",
          "mapbox": {
           "style": "light"
          },
          "paper_bgcolor": "white",
          "plot_bgcolor": "#E5ECF6",
          "polar": {
           "angularaxis": {
            "gridcolor": "white",
            "linecolor": "white",
            "ticks": ""
           },
           "bgcolor": "#E5ECF6",
           "radialaxis": {
            "gridcolor": "white",
            "linecolor": "white",
            "ticks": ""
           }
          },
          "scene": {
           "xaxis": {
            "backgroundcolor": "#E5ECF6",
            "gridcolor": "white",
            "gridwidth": 2,
            "linecolor": "white",
            "showbackground": true,
            "ticks": "",
            "zerolinecolor": "white"
           },
           "yaxis": {
            "backgroundcolor": "#E5ECF6",
            "gridcolor": "white",
            "gridwidth": 2,
            "linecolor": "white",
            "showbackground": true,
            "ticks": "",
            "zerolinecolor": "white"
           },
           "zaxis": {
            "backgroundcolor": "#E5ECF6",
            "gridcolor": "white",
            "gridwidth": 2,
            "linecolor": "white",
            "showbackground": true,
            "ticks": "",
            "zerolinecolor": "white"
           }
          },
          "shapedefaults": {
           "line": {
            "color": "#2a3f5f"
           }
          },
          "ternary": {
           "aaxis": {
            "gridcolor": "white",
            "linecolor": "white",
            "ticks": ""
           },
           "baxis": {
            "gridcolor": "white",
            "linecolor": "white",
            "ticks": ""
           },
           "bgcolor": "#E5ECF6",
           "caxis": {
            "gridcolor": "white",
            "linecolor": "white",
            "ticks": ""
           }
          },
          "title": {
           "x": 0.05
          },
          "xaxis": {
           "automargin": true,
           "gridcolor": "white",
           "linecolor": "white",
           "ticks": "",
           "title": {
            "standoff": 15
           },
           "zerolinecolor": "white",
           "zerolinewidth": 2
          },
          "yaxis": {
           "automargin": true,
           "gridcolor": "white",
           "linecolor": "white",
           "ticks": "",
           "title": {
            "standoff": 15
           },
           "zerolinecolor": "white",
           "zerolinewidth": 2
          }
         }
        },
        "title": {
         "text": "Sales of Product Families"
        },
        "xaxis": {
         "anchor": "y",
         "domain": [
          0,
          1
         ],
         "title": {
          "text": "Average Sales (in Log scale)"
         },
         "type": "log"
        },
        "yaxis": {
         "anchor": "x",
         "domain": [
          0,
          1
         ],
         "title": {
          "text": "Product Family"
         }
        }
       }
      }
     },
     "metadata": {},
     "output_type": "display_data"
    }
   ],
   "source": [
    "top_family = train.groupby('family')['sales'].sum().sort_values()\n",
    "\n",
    "fig = px.bar(top_family.reset_index(), \n",
    "             x='sales', \n",
    "             y='family', \n",
    "             orientation='h', \n",
    "             log_x=True,  # Log scale for the x-axis\n",
    "             title=\"Sales of Product Families\")\n",
    "\n",
    "fig.update_layout(xaxis_title=\"Average Sales (in Log scale)\", \n",
    "                  yaxis_title=\"Product Family\")\n",
    "\n",
    "fig.show()"
   ]
  },
  {
   "cell_type": "code",
   "execution_count": 6,
   "metadata": {},
   "outputs": [],
   "source": [
    "# Preprocess train data \n",
    "top_10_families = top_family.nlargest(10).index\n",
    "train_filt = train[train['family'].isin(top_10_families)]\n",
    "\n",
    "data = train_filt.merge(stores, on='store_nbr', how='left')\n",
    "data = data.merge(oil, on='date', how='left')\n",
    "data['dcoilwtico'] = data['dcoilwtico'].fillna(method='backfill')\n",
    "\n",
    "comp_dir = Path('../data/processed/notebooks')\n",
    "data.to_csv(\n",
    "    comp_dir / 'train.csv',\n",
    "    index=False\n",
    "    )"
   ]
  }
 ],
 "metadata": {
  "kernelspec": {
   "display_name": "Python 3",
   "language": "python",
   "name": "python3"
  },
  "language_info": {
   "codemirror_mode": {
    "name": "ipython",
    "version": 3
   },
   "file_extension": ".py",
   "mimetype": "text/x-python",
   "name": "python",
   "nbconvert_exporter": "python",
   "pygments_lexer": "ipython3",
   "version": "3.11.4"
  }
 },
 "nbformat": 4,
 "nbformat_minor": 2
}

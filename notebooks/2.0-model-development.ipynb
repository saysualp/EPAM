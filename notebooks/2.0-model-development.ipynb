{
 "cells": [
  {
   "cell_type": "code",
   "execution_count": 1,
   "metadata": {},
   "outputs": [],
   "source": [
    "%run 0.1-data-import.ipynb"
   ]
  },
  {
   "cell_type": "markdown",
   "metadata": {},
   "source": [
    "## 2.0 Model Development"
   ]
  },
  {
   "cell_type": "markdown",
   "metadata": {},
   "source": [
    "#### 2.0.1 Data Cleaning"
   ]
  },
  {
   "cell_type": "code",
   "execution_count": 2,
   "metadata": {},
   "outputs": [],
   "source": [
    "# Remove the unusual ups and downs found during EDA\n",
    "data = data[~((data['family'].isin(['BEVERAGES', 'PRODUCE']) & (data['date'] <= '2015-08-01')))]\n",
    "data = data[~((data['family'].isin(['POULTRY', 'DAIRY']) & (data['date'] <= '2013-12-01')))]"
   ]
  },
  {
   "cell_type": "markdown",
   "metadata": {},
   "source": [
    "#### 2.0.2 Preprocessing"
   ]
  },
  {
   "cell_type": "code",
   "execution_count": 3,
   "metadata": {},
   "outputs": [],
   "source": [
    "# Create the unique identifier for time series\n",
    "group_by = ['store_nbr', 'family']\n",
    "data['id'] = data[group_by].apply(lambda row: '_'.join(row.values.astype(str)), axis=1)\n",
    "\n",
    "# Define categorical columns\n",
    "categorical_cols = ['id', 'family', 'city', 'state', 'type', 'cluster']\n",
    "label_encoder = preprocessing.LabelEncoder()\n",
    "for col in categorical_cols:\n",
    "    data[col] = label_encoder.fit_transform(data[col])"
   ]
  },
  {
   "cell_type": "markdown",
   "metadata": {},
   "source": [
    "#### 2.0.3 Feature Engineering"
   ]
  },
  {
   "cell_type": "code",
   "execution_count": 4,
   "metadata": {},
   "outputs": [],
   "source": [
    "forecast_horizon = 28"
   ]
  },
  {
   "cell_type": "markdown",
   "metadata": {},
   "source": [
    "##### 2.0.3.1 Date Features"
   ]
  },
  {
   "cell_type": "code",
   "execution_count": 5,
   "metadata": {},
   "outputs": [],
   "source": [
    "data['year'] = data['date'].dt.year\n",
    "data['quarter'] = data['date'].dt.quarter\n",
    "data['month'] = data['date'].dt.month\n",
    "data['week'] = data['date'].dt.week\n",
    "data['day_of_week'] = data['date'].dt.dayofweek \n",
    "data['day_of_month'] = data['date'].dt.day  \n",
    "data['day_of_year'] = data['date'].dt.dayofyear\n",
    "\n",
    "data['is_weekend'] = data['day_of_week'] >= 5\n",
    "data['is_month_end'] = data['date'].dt.is_month_end\n",
    "\n",
    "# Wages in the public sector are paid every two weeks on the 15th\n",
    "data['is_payroll'] = data['day_of_month'] == 15\n",
    "\n",
    "# A magnitude 7.8 earthquake struck Ecuador on April 16, 2016\n",
    "earthquake_date = pd.to_datetime('2016-04-16')\n",
    "start_of_week = earthquake_date - pd.Timedelta(days=earthquake_date.weekday())\n",
    "end_of_week = start_of_week + pd.Timedelta(days=6)\n",
    "data['is_earthquake'] = data['date'].between(start_of_week, end_of_week)\n",
    "\n",
    "# Convert boolean columns to 1s and 0s\n",
    "data['is_weekend'] = data['is_weekend'].astype(int)\n",
    "data['is_month_end'] = data['is_month_end'].astype(int)\n",
    "data['is_payroll'] = data['is_payroll'].astype(int)\n",
    "data['is_earthquake'] = data['is_earthquake'].astype(int)"
   ]
  },
  {
   "cell_type": "markdown",
   "metadata": {},
   "source": [
    "##### 2.0.3.2 Statistical Features"
   ]
  },
  {
   "cell_type": "code",
   "execution_count": 6,
   "metadata": {},
   "outputs": [
    {
     "name": "stderr",
     "output_type": "stream",
     "text": [
      "Feature Extraction: 100%|██████████| 20/20 [00:01<00:00, 13.31it/s]\n"
     ]
    }
   ],
   "source": [
    "# Set some features due to easiness\n",
    "feature_extraction_settings = {\n",
    "    'sales': {\n",
    "        'mean': None,\n",
    "        'variance': None,\n",
    "        'standard_deviation': None,\n",
    "        'maximum': None,\n",
    "        'minimum': None,\n",
    "        'skewness': None,\n",
    "        'kurtosis': None,\n",
    "        'linear_trend': [\n",
    "            {\"attr\": \"pvalue\"},  \n",
    "            {\"attr\": \"rvalue\"},  \n",
    "            {\"attr\": \"intercept\"},  \n",
    "            {\"attr\": \"slope\"},\n",
    "        ]\n",
    "    }\n",
    "}\n",
    "\n",
    "statistical_features = extract_features(data[['id', 'date', 'sales']], \n",
    "                                        column_id='id', \n",
    "                                        column_sort='date', \n",
    "                                        kind_to_fc_parameters=feature_extraction_settings).reset_index()\n",
    "statistical_features = statistical_features.rename(columns={'index': 'id'})\n"
   ]
  },
  {
   "cell_type": "markdown",
   "metadata": {},
   "source": [
    "##### 2.0.3.3 Lag Features"
   ]
  },
  {
   "cell_type": "code",
   "execution_count": 7,
   "metadata": {},
   "outputs": [],
   "source": [
    "nonrecursive_lags = [1, 6, 21, 43, 66, 101]\n",
    "lags = [forecast_horizon + lag for lag in nonrecursive_lags]\n",
    "\n",
    "lag_it = LagFeatures(periods=lags, drop_original=True)\n",
    "transformed_groups = []\n",
    "\n",
    "# Group the data by 'id' and apply lag transformation to each group\n",
    "for _, group in data.groupby('id'):\n",
    "    transformed_group = lag_it.fit_transform(group[['sales']])\n",
    "    transformed_groups.append(transformed_group)\n",
    "\n",
    "lagged_features = pd.concat(transformed_groups)"
   ]
  },
  {
   "cell_type": "markdown",
   "metadata": {},
   "source": [
    "##### 2.0.3.4 Window Features"
   ]
  },
  {
   "cell_type": "code",
   "execution_count": 8,
   "metadata": {},
   "outputs": [],
   "source": [
    "rolling_window = [5, 12, 33, 42, 91]\n",
    "windows =  [forecast_horizon + window for window in rolling_window]\n",
    "\n",
    "roll_it = WindowFeatures(window=windows, functions=['mean', 'max', 'std'],  drop_original=True)\n",
    "transformed_groups = []\n",
    "\n",
    "for _, group in data.groupby('id'):\n",
    "    transformed_group = roll_it.fit_transform(group[['sales']])\n",
    "    transformed_groups.append(transformed_group)\n",
    "\n",
    "window_features = pd.concat(transformed_groups)\n"
   ]
  },
  {
   "cell_type": "code",
   "execution_count": 9,
   "metadata": {},
   "outputs": [],
   "source": [
    "# Merge calculated features\n",
    "data = data.merge(statistical_features, on='id', how='left')\n",
    "data = data.merge(lagged_features, left_index=True, right_index=True,  how='left')\n",
    "data = data.merge(window_features, left_index=True, right_index=True, how='left')\n",
    "\n",
    "data.dropna(inplace=True)"
   ]
  },
  {
   "cell_type": "markdown",
   "metadata": {},
   "source": [
    "#### 2.0.4 Data Split"
   ]
  },
  {
   "cell_type": "code",
   "execution_count": 10,
   "metadata": {},
   "outputs": [],
   "source": [
    "# Split the dataset into training and validation sets\n",
    "cutoff_date = data[\"date\"].max() - pd.to_timedelta(forecast_horizon, unit='D')\n",
    "\n",
    "train = data[data['date'] <= cutoff_date].copy()\n",
    "valid = data[data['date'] > cutoff_date].copy()"
   ]
  },
  {
   "cell_type": "markdown",
   "metadata": {},
   "source": [
    "#### 2.0.3 Model Building"
   ]
  },
  {
   "cell_type": "code",
   "execution_count": 11,
   "metadata": {},
   "outputs": [],
   "source": [
    "static_cov_cols = ['city', 'state', 'type', 'cluster']\n",
    "future_cov_cols = list(set(train.columns) - set(static_cov_cols) - set(['id', 'date', 'sales']))\n",
    "\n",
    "y_train = TimeSeries.from_group_dataframe(train,\n",
    "                                          group_cols='id',\n",
    "                                          time_col='date',\n",
    "                                          static_cols=static_cov_cols,\n",
    "                                          value_cols=['sales'],\n",
    "                                          fill_missing_dates=True,\n",
    "                                          freq='D',\n",
    "                                          fillna_value=0)\n",
    "\n",
    "future_cov_train = TimeSeries.from_group_dataframe(train,\n",
    "                                          group_cols='id',\n",
    "                                          time_col='date',\n",
    "                                          static_cols=static_cov_cols,\n",
    "                                          value_cols=future_cov_cols,\n",
    "                                          fill_missing_dates=True,\n",
    "                                          freq='D',\n",
    "                                          fillna_value=0)\n",
    "\n",
    "y_valid = TimeSeries.from_group_dataframe(valid,\n",
    "                                          group_cols='id',\n",
    "                                          time_col='date',\n",
    "                                          static_cols=static_cov_cols,\n",
    "                                          value_cols=['sales'],\n",
    "                                          fill_missing_dates=True,\n",
    "                                          freq='D',\n",
    "                                          fillna_value=0)\n",
    "\n",
    "future_cov_valid = TimeSeries.from_group_dataframe(valid,\n",
    "                                          group_cols='id',\n",
    "                                          time_col='date',\n",
    "                                          static_cols=static_cov_cols,\n",
    "                                          value_cols=future_cov_cols,\n",
    "                                          fill_missing_dates=True,\n",
    "                                          freq='D',\n",
    "                                          fillna_value=0)\n"
   ]
  },
  {
   "cell_type": "code",
   "execution_count": 12,
   "metadata": {},
   "outputs": [],
   "source": [
    "target_lags = [-1, -2, -12]\n",
    "\n",
    "model = LightGBMModel(\n",
    "    lags=target_lags,\n",
    "    lags_future_covariates=[0],\n",
    "    use_static_covariates=True,\n",
    "    verbose=-1\n",
    ")\n",
    "\n",
    "model.fit(series=y_train, \n",
    "          future_covariates=future_cov_train)\n",
    "\n",
    "y_pred = model.predict(n=forecast_horizon, \n",
    "                       series=y_train,\n",
    "                       future_covariates=future_cov_valid)"
   ]
  },
  {
   "cell_type": "code",
   "execution_count": 13,
   "metadata": {},
   "outputs": [
    {
     "data": {
      "application/vnd.plotly.v1+json": {
       "config": {
        "plotlyServerURL": "https://plot.ly"
       },
       "data": [
        {
         "name": "History",
         "type": "scatter",
         "x": [
          "2017-01-15T00:00:00",
          "2017-01-16T00:00:00",
          "2017-01-17T00:00:00",
          "2017-01-18T00:00:00",
          "2017-01-19T00:00:00",
          "2017-01-20T00:00:00",
          "2017-01-21T00:00:00",
          "2017-01-22T00:00:00",
          "2017-01-23T00:00:00",
          "2017-01-24T00:00:00",
          "2017-01-25T00:00:00",
          "2017-01-26T00:00:00",
          "2017-01-27T00:00:00",
          "2017-01-28T00:00:00",
          "2017-01-29T00:00:00",
          "2017-01-30T00:00:00",
          "2017-01-31T00:00:00",
          "2017-02-01T00:00:00",
          "2017-02-02T00:00:00",
          "2017-02-03T00:00:00",
          "2017-02-04T00:00:00",
          "2017-02-05T00:00:00",
          "2017-02-06T00:00:00",
          "2017-02-07T00:00:00",
          "2017-02-08T00:00:00",
          "2017-02-09T00:00:00",
          "2017-02-10T00:00:00",
          "2017-02-11T00:00:00",
          "2017-02-12T00:00:00",
          "2017-02-13T00:00:00",
          "2017-02-14T00:00:00",
          "2017-02-15T00:00:00",
          "2017-02-16T00:00:00",
          "2017-02-17T00:00:00",
          "2017-02-18T00:00:00",
          "2017-02-19T00:00:00",
          "2017-02-20T00:00:00",
          "2017-02-21T00:00:00",
          "2017-02-22T00:00:00",
          "2017-02-23T00:00:00",
          "2017-02-24T00:00:00",
          "2017-02-25T00:00:00",
          "2017-02-26T00:00:00",
          "2017-02-27T00:00:00",
          "2017-02-28T00:00:00",
          "2017-03-01T00:00:00",
          "2017-03-02T00:00:00",
          "2017-03-03T00:00:00",
          "2017-03-04T00:00:00",
          "2017-03-05T00:00:00",
          "2017-03-06T00:00:00",
          "2017-03-07T00:00:00",
          "2017-03-08T00:00:00",
          "2017-03-09T00:00:00",
          "2017-03-10T00:00:00",
          "2017-03-11T00:00:00",
          "2017-03-12T00:00:00",
          "2017-03-13T00:00:00",
          "2017-03-14T00:00:00",
          "2017-03-15T00:00:00",
          "2017-03-16T00:00:00",
          "2017-03-17T00:00:00",
          "2017-03-18T00:00:00",
          "2017-03-19T00:00:00",
          "2017-03-20T00:00:00",
          "2017-03-21T00:00:00",
          "2017-03-22T00:00:00",
          "2017-03-23T00:00:00",
          "2017-03-24T00:00:00",
          "2017-03-25T00:00:00",
          "2017-03-26T00:00:00",
          "2017-03-27T00:00:00",
          "2017-03-28T00:00:00",
          "2017-03-29T00:00:00",
          "2017-03-30T00:00:00",
          "2017-03-31T00:00:00",
          "2017-04-01T00:00:00",
          "2017-04-02T00:00:00",
          "2017-04-03T00:00:00",
          "2017-04-04T00:00:00",
          "2017-04-05T00:00:00",
          "2017-04-06T00:00:00",
          "2017-04-07T00:00:00",
          "2017-04-08T00:00:00",
          "2017-04-09T00:00:00",
          "2017-04-10T00:00:00",
          "2017-04-11T00:00:00",
          "2017-04-12T00:00:00",
          "2017-04-13T00:00:00",
          "2017-04-14T00:00:00",
          "2017-04-15T00:00:00",
          "2017-04-16T00:00:00",
          "2017-04-17T00:00:00",
          "2017-04-18T00:00:00",
          "2017-04-19T00:00:00",
          "2017-04-20T00:00:00",
          "2017-04-21T00:00:00",
          "2017-04-22T00:00:00",
          "2017-04-23T00:00:00",
          "2017-04-24T00:00:00",
          "2017-04-25T00:00:00",
          "2017-04-26T00:00:00",
          "2017-04-27T00:00:00",
          "2017-04-28T00:00:00",
          "2017-04-29T00:00:00",
          "2017-04-30T00:00:00",
          "2017-05-01T00:00:00",
          "2017-05-02T00:00:00",
          "2017-05-03T00:00:00",
          "2017-05-04T00:00:00",
          "2017-05-05T00:00:00",
          "2017-05-06T00:00:00",
          "2017-05-07T00:00:00",
          "2017-05-08T00:00:00",
          "2017-05-09T00:00:00",
          "2017-05-10T00:00:00",
          "2017-05-11T00:00:00",
          "2017-05-12T00:00:00",
          "2017-05-13T00:00:00",
          "2017-05-14T00:00:00",
          "2017-05-15T00:00:00",
          "2017-05-16T00:00:00",
          "2017-05-17T00:00:00",
          "2017-05-18T00:00:00",
          "2017-05-19T00:00:00",
          "2017-05-20T00:00:00",
          "2017-05-21T00:00:00",
          "2017-05-22T00:00:00",
          "2017-05-23T00:00:00",
          "2017-05-24T00:00:00",
          "2017-05-25T00:00:00",
          "2017-05-26T00:00:00",
          "2017-05-27T00:00:00",
          "2017-05-28T00:00:00",
          "2017-05-29T00:00:00",
          "2017-05-30T00:00:00",
          "2017-05-31T00:00:00",
          "2017-06-01T00:00:00",
          "2017-06-02T00:00:00",
          "2017-06-03T00:00:00",
          "2017-06-04T00:00:00",
          "2017-06-05T00:00:00",
          "2017-06-06T00:00:00",
          "2017-06-07T00:00:00",
          "2017-06-08T00:00:00",
          "2017-06-09T00:00:00",
          "2017-06-10T00:00:00",
          "2017-06-11T00:00:00",
          "2017-06-12T00:00:00",
          "2017-06-13T00:00:00",
          "2017-06-14T00:00:00",
          "2017-06-15T00:00:00",
          "2017-06-16T00:00:00",
          "2017-06-17T00:00:00",
          "2017-06-18T00:00:00",
          "2017-06-19T00:00:00",
          "2017-06-20T00:00:00"
         ],
         "xaxis": "x",
         "y": [
          192,
          103,
          87,
          68,
          99,
          40,
          148,
          160,
          129,
          129,
          113,
          72,
          55,
          131,
          141,
          130,
          122,
          107,
          99,
          82,
          140,
          140,
          114,
          133,
          76,
          71,
          105,
          125,
          148,
          112,
          121,
          85,
          115,
          70,
          116,
          120,
          115,
          81,
          86,
          90,
          65,
          91,
          79,
          78,
          135,
          123,
          118,
          106,
          133,
          163,
          96,
          101,
          120,
          89,
          76,
          96,
          151,
          147,
          116,
          113,
          89,
          85,
          151,
          157,
          105,
          116,
          89,
          77,
          88,
          133,
          148,
          91,
          89,
          76,
          70,
          73,
          186,
          192,
          124,
          91,
          75,
          81,
          81,
          125,
          123,
          101,
          95,
          97,
          81,
          53,
          84,
          148,
          120,
          127,
          90,
          96,
          64,
          102,
          161,
          109,
          77,
          75,
          88,
          45,
          146,
          120,
          160,
          143,
          105,
          106,
          61,
          122,
          159,
          134,
          105,
          76,
          92,
          71,
          114,
          94,
          138,
          106,
          114,
          75,
          71,
          113,
          170,
          123,
          71,
          72,
          82,
          69,
          83,
          105,
          91,
          107,
          123,
          90,
          94,
          149,
          198,
          144,
          81,
          119,
          89,
          73,
          95,
          145,
          109,
          126,
          95,
          76,
          60,
          120,
          126,
          115,
          157
         ],
         "yaxis": "y"
        },
        {
         "name": "Actual",
         "type": "scatter",
         "x": [
          "2017-06-21T00:00:00",
          "2017-06-22T00:00:00",
          "2017-06-23T00:00:00",
          "2017-06-24T00:00:00",
          "2017-06-25T00:00:00",
          "2017-06-26T00:00:00",
          "2017-06-27T00:00:00",
          "2017-06-28T00:00:00",
          "2017-06-29T00:00:00",
          "2017-06-30T00:00:00",
          "2017-07-01T00:00:00",
          "2017-07-02T00:00:00",
          "2017-07-03T00:00:00",
          "2017-07-04T00:00:00",
          "2017-07-05T00:00:00",
          "2017-07-06T00:00:00",
          "2017-07-07T00:00:00",
          "2017-07-08T00:00:00",
          "2017-07-09T00:00:00",
          "2017-07-10T00:00:00",
          "2017-07-11T00:00:00",
          "2017-07-12T00:00:00",
          "2017-07-13T00:00:00",
          "2017-07-14T00:00:00",
          "2017-07-15T00:00:00",
          "2017-07-16T00:00:00",
          "2017-07-17T00:00:00",
          "2017-07-18T00:00:00"
         ],
         "xaxis": "x",
         "y": [
          80,
          93,
          90,
          98,
          150,
          123,
          97,
          64,
          78,
          73,
          157,
          135,
          132,
          112,
          130,
          87,
          79,
          92,
          125,
          114,
          134,
          86,
          93,
          49,
          109,
          112,
          119,
          98
         ],
         "yaxis": "y"
        },
        {
         "name": "Forecast",
         "type": "scatter",
         "x": [
          "2017-06-21T00:00:00",
          "2017-06-22T00:00:00",
          "2017-06-23T00:00:00",
          "2017-06-24T00:00:00",
          "2017-06-25T00:00:00",
          "2017-06-26T00:00:00",
          "2017-06-27T00:00:00",
          "2017-06-28T00:00:00",
          "2017-06-29T00:00:00",
          "2017-06-30T00:00:00",
          "2017-07-01T00:00:00",
          "2017-07-02T00:00:00",
          "2017-07-03T00:00:00",
          "2017-07-04T00:00:00",
          "2017-07-05T00:00:00",
          "2017-07-06T00:00:00",
          "2017-07-07T00:00:00",
          "2017-07-08T00:00:00",
          "2017-07-09T00:00:00",
          "2017-07-10T00:00:00",
          "2017-07-11T00:00:00",
          "2017-07-12T00:00:00",
          "2017-07-13T00:00:00",
          "2017-07-14T00:00:00",
          "2017-07-15T00:00:00",
          "2017-07-16T00:00:00",
          "2017-07-17T00:00:00",
          "2017-07-18T00:00:00"
         ],
         "xaxis": "x",
         "y": [
          118.80119607688489,
          104.02888170435824,
          117.16306255398554,
          146.8618730868236,
          182.39426401910654,
          105.83128186133507,
          105.44622883669886,
          105.96598780915873,
          95.05242715134501,
          146.04151598379786,
          193.35096020293184,
          233.91365273100536,
          138.66494437117117,
          138.61968179569757,
          133.4387601711942,
          111.1164967943477,
          130.64168233301143,
          166.0240026153988,
          194.0884457355479,
          125.74428366932028,
          118.96822595564765,
          118.96822595564765,
          107.34833463525332,
          119.41067360902179,
          158.66647086939483,
          193.12191867858036,
          125.74428366932028,
          125.35923064468408
         ],
         "yaxis": "y"
        }
       ],
       "layout": {
        "template": {
         "data": {
          "bar": [
           {
            "error_x": {
             "color": "#2a3f5f"
            },
            "error_y": {
             "color": "#2a3f5f"
            },
            "marker": {
             "line": {
              "color": "#E5ECF6",
              "width": 0.5
             },
             "pattern": {
              "fillmode": "overlay",
              "size": 10,
              "solidity": 0.2
             }
            },
            "type": "bar"
           }
          ],
          "barpolar": [
           {
            "marker": {
             "line": {
              "color": "#E5ECF6",
              "width": 0.5
             },
             "pattern": {
              "fillmode": "overlay",
              "size": 10,
              "solidity": 0.2
             }
            },
            "type": "barpolar"
           }
          ],
          "carpet": [
           {
            "aaxis": {
             "endlinecolor": "#2a3f5f",
             "gridcolor": "white",
             "linecolor": "white",
             "minorgridcolor": "white",
             "startlinecolor": "#2a3f5f"
            },
            "baxis": {
             "endlinecolor": "#2a3f5f",
             "gridcolor": "white",
             "linecolor": "white",
             "minorgridcolor": "white",
             "startlinecolor": "#2a3f5f"
            },
            "type": "carpet"
           }
          ],
          "choropleth": [
           {
            "colorbar": {
             "outlinewidth": 0,
             "ticks": ""
            },
            "type": "choropleth"
           }
          ],
          "contour": [
           {
            "colorbar": {
             "outlinewidth": 0,
             "ticks": ""
            },
            "colorscale": [
             [
              0,
              "#0d0887"
             ],
             [
              0.1111111111111111,
              "#46039f"
             ],
             [
              0.2222222222222222,
              "#7201a8"
             ],
             [
              0.3333333333333333,
              "#9c179e"
             ],
             [
              0.4444444444444444,
              "#bd3786"
             ],
             [
              0.5555555555555556,
              "#d8576b"
             ],
             [
              0.6666666666666666,
              "#ed7953"
             ],
             [
              0.7777777777777778,
              "#fb9f3a"
             ],
             [
              0.8888888888888888,
              "#fdca26"
             ],
             [
              1,
              "#f0f921"
             ]
            ],
            "type": "contour"
           }
          ],
          "contourcarpet": [
           {
            "colorbar": {
             "outlinewidth": 0,
             "ticks": ""
            },
            "type": "contourcarpet"
           }
          ],
          "heatmap": [
           {
            "colorbar": {
             "outlinewidth": 0,
             "ticks": ""
            },
            "colorscale": [
             [
              0,
              "#0d0887"
             ],
             [
              0.1111111111111111,
              "#46039f"
             ],
             [
              0.2222222222222222,
              "#7201a8"
             ],
             [
              0.3333333333333333,
              "#9c179e"
             ],
             [
              0.4444444444444444,
              "#bd3786"
             ],
             [
              0.5555555555555556,
              "#d8576b"
             ],
             [
              0.6666666666666666,
              "#ed7953"
             ],
             [
              0.7777777777777778,
              "#fb9f3a"
             ],
             [
              0.8888888888888888,
              "#fdca26"
             ],
             [
              1,
              "#f0f921"
             ]
            ],
            "type": "heatmap"
           }
          ],
          "heatmapgl": [
           {
            "colorbar": {
             "outlinewidth": 0,
             "ticks": ""
            },
            "colorscale": [
             [
              0,
              "#0d0887"
             ],
             [
              0.1111111111111111,
              "#46039f"
             ],
             [
              0.2222222222222222,
              "#7201a8"
             ],
             [
              0.3333333333333333,
              "#9c179e"
             ],
             [
              0.4444444444444444,
              "#bd3786"
             ],
             [
              0.5555555555555556,
              "#d8576b"
             ],
             [
              0.6666666666666666,
              "#ed7953"
             ],
             [
              0.7777777777777778,
              "#fb9f3a"
             ],
             [
              0.8888888888888888,
              "#fdca26"
             ],
             [
              1,
              "#f0f921"
             ]
            ],
            "type": "heatmapgl"
           }
          ],
          "histogram": [
           {
            "marker": {
             "pattern": {
              "fillmode": "overlay",
              "size": 10,
              "solidity": 0.2
             }
            },
            "type": "histogram"
           }
          ],
          "histogram2d": [
           {
            "colorbar": {
             "outlinewidth": 0,
             "ticks": ""
            },
            "colorscale": [
             [
              0,
              "#0d0887"
             ],
             [
              0.1111111111111111,
              "#46039f"
             ],
             [
              0.2222222222222222,
              "#7201a8"
             ],
             [
              0.3333333333333333,
              "#9c179e"
             ],
             [
              0.4444444444444444,
              "#bd3786"
             ],
             [
              0.5555555555555556,
              "#d8576b"
             ],
             [
              0.6666666666666666,
              "#ed7953"
             ],
             [
              0.7777777777777778,
              "#fb9f3a"
             ],
             [
              0.8888888888888888,
              "#fdca26"
             ],
             [
              1,
              "#f0f921"
             ]
            ],
            "type": "histogram2d"
           }
          ],
          "histogram2dcontour": [
           {
            "colorbar": {
             "outlinewidth": 0,
             "ticks": ""
            },
            "colorscale": [
             [
              0,
              "#0d0887"
             ],
             [
              0.1111111111111111,
              "#46039f"
             ],
             [
              0.2222222222222222,
              "#7201a8"
             ],
             [
              0.3333333333333333,
              "#9c179e"
             ],
             [
              0.4444444444444444,
              "#bd3786"
             ],
             [
              0.5555555555555556,
              "#d8576b"
             ],
             [
              0.6666666666666666,
              "#ed7953"
             ],
             [
              0.7777777777777778,
              "#fb9f3a"
             ],
             [
              0.8888888888888888,
              "#fdca26"
             ],
             [
              1,
              "#f0f921"
             ]
            ],
            "type": "histogram2dcontour"
           }
          ],
          "mesh3d": [
           {
            "colorbar": {
             "outlinewidth": 0,
             "ticks": ""
            },
            "type": "mesh3d"
           }
          ],
          "parcoords": [
           {
            "line": {
             "colorbar": {
              "outlinewidth": 0,
              "ticks": ""
             }
            },
            "type": "parcoords"
           }
          ],
          "pie": [
           {
            "automargin": true,
            "type": "pie"
           }
          ],
          "scatter": [
           {
            "fillpattern": {
             "fillmode": "overlay",
             "size": 10,
             "solidity": 0.2
            },
            "type": "scatter"
           }
          ],
          "scatter3d": [
           {
            "line": {
             "colorbar": {
              "outlinewidth": 0,
              "ticks": ""
             }
            },
            "marker": {
             "colorbar": {
              "outlinewidth": 0,
              "ticks": ""
             }
            },
            "type": "scatter3d"
           }
          ],
          "scattercarpet": [
           {
            "marker": {
             "colorbar": {
              "outlinewidth": 0,
              "ticks": ""
             }
            },
            "type": "scattercarpet"
           }
          ],
          "scattergeo": [
           {
            "marker": {
             "colorbar": {
              "outlinewidth": 0,
              "ticks": ""
             }
            },
            "type": "scattergeo"
           }
          ],
          "scattergl": [
           {
            "marker": {
             "colorbar": {
              "outlinewidth": 0,
              "ticks": ""
             }
            },
            "type": "scattergl"
           }
          ],
          "scattermapbox": [
           {
            "marker": {
             "colorbar": {
              "outlinewidth": 0,
              "ticks": ""
             }
            },
            "type": "scattermapbox"
           }
          ],
          "scatterpolar": [
           {
            "marker": {
             "colorbar": {
              "outlinewidth": 0,
              "ticks": ""
             }
            },
            "type": "scatterpolar"
           }
          ],
          "scatterpolargl": [
           {
            "marker": {
             "colorbar": {
              "outlinewidth": 0,
              "ticks": ""
             }
            },
            "type": "scatterpolargl"
           }
          ],
          "scatterternary": [
           {
            "marker": {
             "colorbar": {
              "outlinewidth": 0,
              "ticks": ""
             }
            },
            "type": "scatterternary"
           }
          ],
          "surface": [
           {
            "colorbar": {
             "outlinewidth": 0,
             "ticks": ""
            },
            "colorscale": [
             [
              0,
              "#0d0887"
             ],
             [
              0.1111111111111111,
              "#46039f"
             ],
             [
              0.2222222222222222,
              "#7201a8"
             ],
             [
              0.3333333333333333,
              "#9c179e"
             ],
             [
              0.4444444444444444,
              "#bd3786"
             ],
             [
              0.5555555555555556,
              "#d8576b"
             ],
             [
              0.6666666666666666,
              "#ed7953"
             ],
             [
              0.7777777777777778,
              "#fb9f3a"
             ],
             [
              0.8888888888888888,
              "#fdca26"
             ],
             [
              1,
              "#f0f921"
             ]
            ],
            "type": "surface"
           }
          ],
          "table": [
           {
            "cells": {
             "fill": {
              "color": "#EBF0F8"
             },
             "line": {
              "color": "white"
             }
            },
            "header": {
             "fill": {
              "color": "#C8D4E3"
             },
             "line": {
              "color": "white"
             }
            },
            "type": "table"
           }
          ]
         },
         "layout": {
          "annotationdefaults": {
           "arrowcolor": "#2a3f5f",
           "arrowhead": 0,
           "arrowwidth": 1
          },
          "autotypenumbers": "strict",
          "coloraxis": {
           "colorbar": {
            "outlinewidth": 0,
            "ticks": ""
           }
          },
          "colorscale": {
           "diverging": [
            [
             0,
             "#8e0152"
            ],
            [
             0.1,
             "#c51b7d"
            ],
            [
             0.2,
             "#de77ae"
            ],
            [
             0.3,
             "#f1b6da"
            ],
            [
             0.4,
             "#fde0ef"
            ],
            [
             0.5,
             "#f7f7f7"
            ],
            [
             0.6,
             "#e6f5d0"
            ],
            [
             0.7,
             "#b8e186"
            ],
            [
             0.8,
             "#7fbc41"
            ],
            [
             0.9,
             "#4d9221"
            ],
            [
             1,
             "#276419"
            ]
           ],
           "sequential": [
            [
             0,
             "#0d0887"
            ],
            [
             0.1111111111111111,
             "#46039f"
            ],
            [
             0.2222222222222222,
             "#7201a8"
            ],
            [
             0.3333333333333333,
             "#9c179e"
            ],
            [
             0.4444444444444444,
             "#bd3786"
            ],
            [
             0.5555555555555556,
             "#d8576b"
            ],
            [
             0.6666666666666666,
             "#ed7953"
            ],
            [
             0.7777777777777778,
             "#fb9f3a"
            ],
            [
             0.8888888888888888,
             "#fdca26"
            ],
            [
             1,
             "#f0f921"
            ]
           ],
           "sequentialminus": [
            [
             0,
             "#0d0887"
            ],
            [
             0.1111111111111111,
             "#46039f"
            ],
            [
             0.2222222222222222,
             "#7201a8"
            ],
            [
             0.3333333333333333,
             "#9c179e"
            ],
            [
             0.4444444444444444,
             "#bd3786"
            ],
            [
             0.5555555555555556,
             "#d8576b"
            ],
            [
             0.6666666666666666,
             "#ed7953"
            ],
            [
             0.7777777777777778,
             "#fb9f3a"
            ],
            [
             0.8888888888888888,
             "#fdca26"
            ],
            [
             1,
             "#f0f921"
            ]
           ]
          },
          "colorway": [
           "#636efa",
           "#EF553B",
           "#00cc96",
           "#ab63fa",
           "#FFA15A",
           "#19d3f3",
           "#FF6692",
           "#B6E880",
           "#FF97FF",
           "#FECB52"
          ],
          "font": {
           "color": "#2a3f5f"
          },
          "geo": {
           "bgcolor": "white",
           "lakecolor": "white",
           "landcolor": "#E5ECF6",
           "showlakes": true,
           "showland": true,
           "subunitcolor": "white"
          },
          "hoverlabel": {
           "align": "left"
          },
          "hovermode": "closest",
          "mapbox": {
           "style": "light"
          },
          "paper_bgcolor": "white",
          "plot_bgcolor": "#E5ECF6",
          "polar": {
           "angularaxis": {
            "gridcolor": "white",
            "linecolor": "white",
            "ticks": ""
           },
           "bgcolor": "#E5ECF6",
           "radialaxis": {
            "gridcolor": "white",
            "linecolor": "white",
            "ticks": ""
           }
          },
          "scene": {
           "xaxis": {
            "backgroundcolor": "#E5ECF6",
            "gridcolor": "white",
            "gridwidth": 2,
            "linecolor": "white",
            "showbackground": true,
            "ticks": "",
            "zerolinecolor": "white"
           },
           "yaxis": {
            "backgroundcolor": "#E5ECF6",
            "gridcolor": "white",
            "gridwidth": 2,
            "linecolor": "white",
            "showbackground": true,
            "ticks": "",
            "zerolinecolor": "white"
           },
           "zaxis": {
            "backgroundcolor": "#E5ECF6",
            "gridcolor": "white",
            "gridwidth": 2,
            "linecolor": "white",
            "showbackground": true,
            "ticks": "",
            "zerolinecolor": "white"
           }
          },
          "shapedefaults": {
           "line": {
            "color": "#2a3f5f"
           }
          },
          "ternary": {
           "aaxis": {
            "gridcolor": "white",
            "linecolor": "white",
            "ticks": ""
           },
           "baxis": {
            "gridcolor": "white",
            "linecolor": "white",
            "ticks": ""
           },
           "bgcolor": "#E5ECF6",
           "caxis": {
            "gridcolor": "white",
            "linecolor": "white",
            "ticks": ""
           }
          },
          "title": {
           "x": 0.05
          },
          "xaxis": {
           "automargin": true,
           "gridcolor": "white",
           "linecolor": "white",
           "ticks": "",
           "title": {
            "standoff": 15
           },
           "zerolinecolor": "white",
           "zerolinewidth": 2
          },
          "yaxis": {
           "automargin": true,
           "gridcolor": "white",
           "linecolor": "white",
           "ticks": "",
           "title": {
            "standoff": 15
           },
           "zerolinecolor": "white",
           "zerolinewidth": 2
          }
         }
        },
        "title": {
         "text": "An example Family-Store"
        },
        "xaxis": {
         "anchor": "y",
         "domain": [
          0,
          1
         ],
         "title": {
          "text": "Date"
         }
        },
        "yaxis": {
         "anchor": "x",
         "domain": [
          0,
          1
         ],
         "title": {
          "text": "Value"
         }
        }
       }
      }
     },
     "metadata": {},
     "output_type": "display_data"
    }
   ],
   "source": [
    "history_dates = y_train[1].time_index[1260:1660]\n",
    "history_values = y_train[1].values()[1260:1660]\n",
    "\n",
    "# Actual (from y_valid)\n",
    "actual_dates = y_valid[1].time_index\n",
    "actual_values = y_valid[1].values()\n",
    "\n",
    "# Forecast (from y_pred)\n",
    "forecast_dates = y_pred[1].time_index\n",
    "forecast_values = y_pred[1].values()\n",
    "\n",
    "# Initialize figure with subplots\n",
    "fig = make_subplots(specs=[[{\"secondary_y\": False}]])\n",
    "fig.add_trace(go.Scatter(x=history_dates, y=history_values.flatten(), name=\"History\"), secondary_y=False)\n",
    "fig.add_trace(go.Scatter(x=actual_dates, y=actual_values.flatten(), name=\"Actual\"), secondary_y=False)\n",
    "fig.add_trace(go.Scatter(x=forecast_dates, y=forecast_values.flatten(), name=\"Forecast\"), secondary_y=False)\n",
    "fig.update_layout(title_text=\"An example Family-Store\")\n",
    "fig.update_xaxes(title_text=\"Date\")\n",
    "fig.update_yaxes(title_text=\"Value\", secondary_y=False)\n",
    "\n",
    "fig.show()"
   ]
  },
  {
   "cell_type": "markdown",
   "metadata": {},
   "source": [
    "#### 2.0.4 Model Evaluation"
   ]
  },
  {
   "cell_type": "code",
   "execution_count": 221,
   "metadata": {},
   "outputs": [
    {
     "name": "stdout",
     "output_type": "stream",
     "text": [
      "Average MAPE: 21.13%\n",
      "Average RMSE: 263.7309797134101\n"
     ]
    }
   ],
   "source": [
    "mapes = [mape(y_valid[i], y_pred[i]) for i in range(len(y_valid))]\n",
    "rmses = [rmse(y_valid[i], y_pred[i]) for i in range(len(y_valid))]\n",
    "\n",
    "# Calculate average MAPE and RMSE across all series\n",
    "average_mape = sum(mapes) / len(mapes)\n",
    "average_rmse = sum(rmses) / len(rmses)\n",
    "\n",
    "print(f\"Average MAPE: {average_mape:.2f}%\")\n",
    "print(f\"Average RMSE: {average_rmse}\")"
   ]
  },
  {
   "cell_type": "markdown",
   "metadata": {},
   "source": [
    "#### 2.0.4.1 Backtesting"
   ]
  },
  {
   "cell_type": "code",
   "execution_count": 234,
   "metadata": {},
   "outputs": [
    {
     "name": "stderr",
     "output_type": "stream",
     "text": [
      "`enable_optimization=True` is ignored because `forecast_horizon > model.output_chunk_length`.To hide this warning, set `show_warnings=False` or `enable_optimization=False`.\n"
     ]
    },
    {
     "data": {
      "application/vnd.jupyter.widget-view+json": {
       "model_id": "a3c49c3a127747e3a181b63babaaba4c",
       "version_major": 2,
       "version_minor": 0
      },
      "text/plain": [
       "  0%|          | 0/540 [00:00<?, ?it/s]"
      ]
     },
     "metadata": {},
     "output_type": "display_data"
    },
    {
     "name": "stdout",
     "output_type": "stream",
     "text": [
      "Average Backtest RMSE: 280.535648767818\n"
     ]
    }
   ],
   "source": [
    "backtest_results = model.historical_forecasts(\n",
    "    series=y_train,\n",
    "    start=pd.Timestamp('2017-01-01'),\n",
    "    future_covariates=future_cov_train,\n",
    "    retrain=False,\n",
    "    forecast_horizon=forecast_horizon,\n",
    "    stride=forecast_horizon // 2,\n",
    "    verbose=-1\n",
    ")\n",
    "\n",
    "backtest_rmses = [rmse(y_train[i].slice_intersect(backtest_results[i]), backtest_results[i]) for i in range(len(y_train))]\n",
    "# Calculate the average RMSE across all series\n",
    "average_backtest_rmse = np.mean(backtest_rmses)\n",
    "print(f\"Average Backtest RMSE: {average_backtest_rmse}\")"
   ]
  },
  {
   "cell_type": "markdown",
   "metadata": {},
   "source": [
    "##### 2.0.4.2 Feature Importance"
   ]
  },
  {
   "cell_type": "code",
   "execution_count": 201,
   "metadata": {},
   "outputs": [
    {
     "data": {
      "image/png": "[encoded data removed]",
      "text/plain": [
       "<Figure size 800x950 with 2 Axes>"
      ]
     },
     "metadata": {},
     "output_type": "display_data"
    }
   ],
   "source": [
    "# Example importance for one series\n",
    "shap_explain = ShapExplainer(model, \n",
    "                             background_series=y_train[0], \n",
    "                             background_future_covariates=future_cov_train[0])\n",
    "results = shap_explain.explain()\n",
    "shap_explain.summary_plot();"
   ]
  },
  {
   "cell_type": "markdown",
   "metadata": {},
   "source": [
    "#### 2.0.4 Model Tune"
   ]
  },
  {
   "cell_type": "markdown",
   "metadata": {},
   "source": [
    "<div class=\"alert alert-block alert-warning\">\n",
    "\n",
    "While Optuna offers advanced hyperparameter optimization capabilities and could significantly enhance the model tuning process by exploring a broader and potentially more optimal parameter space, its integration is being skipped for the moment. This decision allows the focus to remain on utilizing Darts' built-in tuning functionalities, which provide a straightforward and accessible approach for model optimization within the existing workflow.\n",
    "\n",
    "</div>"
   ]
  }
 ],
 "metadata": {
  "kernelspec": {
   "display_name": "Python 3",
   "language": "python",
   "name": "python3"
  },
  "language_info": {
   "codemirror_mode": {
    "name": "ipython",
    "version": 3
   },
   "file_extension": ".py",
   "mimetype": "text/x-python",
   "name": "python",
   "nbconvert_exporter": "python",
   "pygments_lexer": "ipython3",
   "version": "3.11.4"
  }
 },
 "nbformat": 4,
 "nbformat_minor": 2
}

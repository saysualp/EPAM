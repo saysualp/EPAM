{
 "cells": [
  {
   "cell_type": "code",
   "execution_count": 47,
   "metadata": {},
   "outputs": [],
   "source": [
    "%run 0.0-libraries-configurations.ipynb"
   ]
  },
  {
   "cell_type": "markdown",
   "metadata": {},
   "source": [
    "## 0.1 Data Import"
   ]
  },
  {
   "cell_type": "code",
   "execution_count": 54,
   "metadata": {},
   "outputs": [],
   "source": [
    "# Read raw data\n",
    "comp_dir = Path('../data/raw/')\n",
    "\n",
    "train = pd.read_csv(\n",
    "    comp_dir / 'train.csv',\n",
    "    usecols=['store_nbr', 'family', 'date', 'sales', 'onpromotion'],\n",
    "    dtype={\n",
    "        'store_nbr': 'category',\n",
    "        'family': 'category',\n",
    "        'sales': 'float32',\n",
    "        'onpromotion': 'uint32',\n",
    "    },\n",
    "    parse_dates=['date'],\n",
    "    infer_datetime_format=True,\n",
    ")\n",
    "train['date'] = train.date.dt.to_period('D')\n",
    "\n",
    "test = pd.read_csv(\n",
    "    comp_dir / 'test.csv',\n",
    "    usecols=['store_nbr', 'family', 'date', 'onpromotion'],\n",
    "    dtype={\n",
    "        'store_nbr': 'category',\n",
    "        'family': 'category',\n",
    "        'onpromotion': 'uint32',\n",
    "    },\n",
    "    parse_dates=['date'],\n",
    "    infer_datetime_format=True,\n",
    ")\n",
    "test['date'] = test.date.dt.to_period('D')\n",
    "\n",
    "stores = pd.read_csv(\n",
    "    comp_dir / 'stores.csv',\n",
    "    dtype={\n",
    "        'store_nbr': 'category',\n",
    "        'city': 'category',\n",
    "        'state': 'category',\n",
    "        'type': 'category',\n",
    "        'cluster': 'category',\n",
    "    }\n",
    ")\n",
    "\n",
    "transactions = pd.read_csv(\n",
    "    comp_dir / 'transactions.csv',\n",
    "    dtype={\n",
    "        'store_nbr': 'category',\n",
    "        'transactions': 'float32',\n",
    "    },\n",
    "    parse_dates=['date'],\n",
    "    infer_datetime_format=True,\n",
    ")\n",
    "transactions['date'] = transactions.date.dt.to_period('D')"
   ]
  },
  {
   "cell_type": "code",
   "execution_count": 50,
   "metadata": {},
   "outputs": [],
   "source": [
    "# Reading external data\n",
    "comp_dir = Path('../data/external/')\n",
    "\n",
    "holidays_events = pd.read_csv(\n",
    "    comp_dir / 'holidays_events.csv',\n",
    "    dtype={\n",
    "        'type': 'category',\n",
    "        'locale': 'category',\n",
    "        'locale_name': 'category',\n",
    "        'description': 'category',\n",
    "        'transferred': 'boolean',\n",
    "    },\n",
    "    parse_dates=['date'],\n",
    "    infer_datetime_format=True,\n",
    ")\n",
    "holidays_events['date'] = holidays_events.date.dt.to_period('D')\n",
    "\n",
    "oil = pd.read_csv(\n",
    "    comp_dir / 'oil.csv',\n",
    "    dtype={\n",
    "        'dcoilwtico': 'float32',\n",
    "    },\n",
    "    parse_dates=['date'],\n",
    "    infer_datetime_format=True,\n",
    ")\n",
    "oil['date'] = oil.date.dt.to_period('D')"
   ]
  },
  {
   "cell_type": "code",
   "execution_count": null,
   "metadata": {},
   "outputs": [],
   "source": [
    "# Read preprocessed data\n",
    "comp_dir = Path('../data/processed/notebooks')\n",
    "\n",
    "data = pd.read_csv(\n",
    "    comp_dir / 'train.csv',\n",
    "    dtype={\n",
    "        'store_nbr': 'category',\n",
    "        'family': 'category',\n",
    "        'sales': 'float32',\n",
    "        'onpromotion': 'uint32',\n",
    "        'city': 'category',\n",
    "        'state': 'category',\n",
    "        'type': 'category',\n",
    "        'cluster': 'category',\n",
    "        'dcoilwtico': 'float32'\n",
    "    },\n",
    "    parse_dates=['date'],\n",
    "    infer_datetime_format=True,\n",
    ")"
   ]
  }
 ],
 "metadata": {
  "kernelspec": {
   "display_name": "Python 3",
   "language": "python",
   "name": "python3"
  },
  "language_info": {
   "codemirror_mode": {
    "name": "ipython",
    "version": 3
   },
   "file_extension": ".py",
   "mimetype": "text/x-python",
   "name": "python",
   "nbconvert_exporter": "python",
   "pygments_lexer": "ipython3",
   "version": "3.11.4"
  }
 },
 "nbformat": 4,
 "nbformat_minor": 2
}
